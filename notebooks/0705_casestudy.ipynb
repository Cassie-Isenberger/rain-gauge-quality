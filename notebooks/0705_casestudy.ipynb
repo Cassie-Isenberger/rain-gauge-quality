{
 "cells": [
  {
   "cell_type": "markdown",
   "id": "180ea710-6417-4b47-b385-440683496a41",
   "metadata": {},
   "source": [
    "# Rain Gauge Quality Comparison - Research Grade Rain Gauges"
   ]
  },
  {
   "cell_type": "markdown",
   "id": "c4a634f1-eaeb-492c-96d8-07923b2047fc",
   "metadata": {},
   "source": [
    "<b>Maggie Zoerner</b> </br>\n",
    "SULI Intern</br>\n",
    "Argonne National Laboratory</br>\n",
    "Summer 2023</br>"
   ]
  },
  {
   "cell_type": "markdown",
   "id": "19caa480-8e9d-428b-a208-05f57004ec00",
   "metadata": {},
   "source": [
    "### This notebook is a case study for the very heavy rainfall that occurred at the ATMOS site on July 5, 2023 and July 6, 2023! We will compare the performance of the research grade rain gauges, including: \n",
    "* Tower 8in Tipping Bucket Rain Gauge\n",
    "* Wind shielded 8in Tipping Bucket Rain Gauge\n",
    "* NovaLynx 12in Tipping Bucket Rain Gauge\n",
    "* Optical Rain Gauge (ORG)\n",
    "* FD70 Forward Scatter Sensor"
   ]
  },
  {
   "cell_type": "markdown",
   "id": "a79ed615-befe-424f-bf34-3e19c1e374ec",
   "metadata": {},
   "source": [
    "## Import libraries"
   ]
  },
  {
   "cell_type": "code",
   "execution_count": 4,
   "id": "e4046b50-68bd-4c5f-9fad-b33ad3419ee5",
   "metadata": {},
   "outputs": [],
   "source": [
    "import numpy as np\n",
    "import pandas as pd\n",
    "import xarray as xr \n",
    "import os\n",
    "import matplotlib.pyplot as plt"
   ]
  },
  {
   "cell_type": "markdown",
   "id": "1a0d24dd-1dc9-468f-bbd4-09b36373ce34",
   "metadata": {},
   "source": [
    "## Import ORG/APG Data"
   ]
  },
  {
   "cell_type": "code",
   "execution_count": 5,
   "id": "b58d1dbc-238f-4b2e-8aa3-8c1108fff472",
   "metadata": {},
   "outputs": [],
   "source": [
    "ORGAPG_files = \"C:/Users/maggi/ANL_Internship_2023/ORG_APG/ORG_APG_0705/*.nc\""
   ]
  },
  {
   "cell_type": "code",
   "execution_count": 6,
   "id": "a14ef537-573b-425d-a80f-c1f3056405b9",
   "metadata": {},
   "outputs": [],
   "source": [
    "ORGAPG_ds = xr.open_mfdataset(ORGAPG_files)"
   ]
  },
  {
   "cell_type": "code",
   "execution_count": 7,
   "id": "23cced0b-ded2-46d9-88df-4cb2ac5d45a3",
   "metadata": {},
   "outputs": [
    {
     "data": {
      "text/html": [
       "<div><svg style=\"position: absolute; width: 0; height: 0; overflow: hidden\">\n",
       "<defs>\n",
       "<symbol id=\"icon-database\" viewBox=\"0 0 32 32\">\n",
       "<path d=\"M16 0c-8.837 0-16 2.239-16 5v4c0 2.761 7.163 5 16 5s16-2.239 16-5v-4c0-2.761-7.163-5-16-5z\"></path>\n",
       "<path d=\"M16 17c-8.837 0-16-2.239-16-5v6c0 2.761 7.163 5 16 5s16-2.239 16-5v-6c0 2.761-7.163 5-16 5z\"></path>\n",
       "<path d=\"M16 26c-8.837 0-16-2.239-16-5v6c0 2.761 7.163 5 16 5s16-2.239 16-5v-6c0 2.761-7.163 5-16 5z\"></path>\n",
       "</symbol>\n",
       "<symbol id=\"icon-file-text2\" viewBox=\"0 0 32 32\">\n",
       "<path d=\"M28.681 7.159c-0.694-0.947-1.662-2.053-2.724-3.116s-2.169-2.030-3.116-2.724c-1.612-1.182-2.393-1.319-2.841-1.319h-15.5c-1.378 0-2.5 1.121-2.5 2.5v27c0 1.378 1.122 2.5 2.5 2.5h23c1.378 0 2.5-1.122 2.5-2.5v-19.5c0-0.448-0.137-1.23-1.319-2.841zM24.543 5.457c0.959 0.959 1.712 1.825 2.268 2.543h-4.811v-4.811c0.718 0.556 1.584 1.309 2.543 2.268zM28 29.5c0 0.271-0.229 0.5-0.5 0.5h-23c-0.271 0-0.5-0.229-0.5-0.5v-27c0-0.271 0.229-0.5 0.5-0.5 0 0 15.499-0 15.5 0v7c0 0.552 0.448 1 1 1h7v19.5z\"></path>\n",
       "<path d=\"M23 26h-14c-0.552 0-1-0.448-1-1s0.448-1 1-1h14c0.552 0 1 0.448 1 1s-0.448 1-1 1z\"></path>\n",
       "<path d=\"M23 22h-14c-0.552 0-1-0.448-1-1s0.448-1 1-1h14c0.552 0 1 0.448 1 1s-0.448 1-1 1z\"></path>\n",
       "<path d=\"M23 18h-14c-0.552 0-1-0.448-1-1s0.448-1 1-1h14c0.552 0 1 0.448 1 1s-0.448 1-1 1z\"></path>\n",
       "</symbol>\n",
       "</defs>\n",
       "</svg>\n",
       "<style>/* CSS stylesheet for displaying xarray objects in jupyterlab.\n",
       " *\n",
       " */\n",
       "\n",
       ":root {\n",
       "  --xr-font-color0: var(--jp-content-font-color0, rgba(0, 0, 0, 1));\n",
       "  --xr-font-color2: var(--jp-content-font-color2, rgba(0, 0, 0, 0.54));\n",
       "  --xr-font-color3: var(--jp-content-font-color3, rgba(0, 0, 0, 0.38));\n",
       "  --xr-border-color: var(--jp-border-color2, #e0e0e0);\n",
       "  --xr-disabled-color: var(--jp-layout-color3, #bdbdbd);\n",
       "  --xr-background-color: var(--jp-layout-color0, white);\n",
       "  --xr-background-color-row-even: var(--jp-layout-color1, white);\n",
       "  --xr-background-color-row-odd: var(--jp-layout-color2, #eeeeee);\n",
       "}\n",
       "\n",
       "html[theme=dark],\n",
       "body.vscode-dark {\n",
       "  --xr-font-color0: rgba(255, 255, 255, 1);\n",
       "  --xr-font-color2: rgba(255, 255, 255, 0.54);\n",
       "  --xr-font-color3: rgba(255, 255, 255, 0.38);\n",
       "  --xr-border-color: #1F1F1F;\n",
       "  --xr-disabled-color: #515151;\n",
       "  --xr-background-color: #111111;\n",
       "  --xr-background-color-row-even: #111111;\n",
       "  --xr-background-color-row-odd: #313131;\n",
       "}\n",
       "\n",
       ".xr-wrap {\n",
       "  display: block;\n",
       "  min-width: 300px;\n",
       "  max-width: 700px;\n",
       "}\n",
       "\n",
       ".xr-text-repr-fallback {\n",
       "  /* fallback to plain text repr when CSS is not injected (untrusted notebook) */\n",
       "  display: none;\n",
       "}\n",
       "\n",
       ".xr-header {\n",
       "  padding-top: 6px;\n",
       "  padding-bottom: 6px;\n",
       "  margin-bottom: 4px;\n",
       "  border-bottom: solid 1px var(--xr-border-color);\n",
       "}\n",
       "\n",
       ".xr-header > div,\n",
       ".xr-header > ul {\n",
       "  display: inline;\n",
       "  margin-top: 0;\n",
       "  margin-bottom: 0;\n",
       "}\n",
       "\n",
       ".xr-obj-type,\n",
       ".xr-array-name {\n",
       "  margin-left: 2px;\n",
       "  margin-right: 10px;\n",
       "}\n",
       "\n",
       ".xr-obj-type {\n",
       "  color: var(--xr-font-color2);\n",
       "}\n",
       "\n",
       ".xr-sections {\n",
       "  padding-left: 0 !important;\n",
       "  display: grid;\n",
       "  grid-template-columns: 150px auto auto 1fr 20px 20px;\n",
       "}\n",
       "\n",
       ".xr-section-item {\n",
       "  display: contents;\n",
       "}\n",
       "\n",
       ".xr-section-item input {\n",
       "  display: none;\n",
       "}\n",
       "\n",
       ".xr-section-item input + label {\n",
       "  color: var(--xr-disabled-color);\n",
       "}\n",
       "\n",
       ".xr-section-item input:enabled + label {\n",
       "  cursor: pointer;\n",
       "  color: var(--xr-font-color2);\n",
       "}\n",
       "\n",
       ".xr-section-item input:enabled + label:hover {\n",
       "  color: var(--xr-font-color0);\n",
       "}\n",
       "\n",
       ".xr-section-summary {\n",
       "  grid-column: 1;\n",
       "  color: var(--xr-font-color2);\n",
       "  font-weight: 500;\n",
       "}\n",
       "\n",
       ".xr-section-summary > span {\n",
       "  display: inline-block;\n",
       "  padding-left: 0.5em;\n",
       "}\n",
       "\n",
       ".xr-section-summary-in:disabled + label {\n",
       "  color: var(--xr-font-color2);\n",
       "}\n",
       "\n",
       ".xr-section-summary-in + label:before {\n",
       "  display: inline-block;\n",
       "  content: '►';\n",
       "  font-size: 11px;\n",
       "  width: 15px;\n",
       "  text-align: center;\n",
       "}\n",
       "\n",
       ".xr-section-summary-in:disabled + label:before {\n",
       "  color: var(--xr-disabled-color);\n",
       "}\n",
       "\n",
       ".xr-section-summary-in:checked + label:before {\n",
       "  content: '▼';\n",
       "}\n",
       "\n",
       ".xr-section-summary-in:checked + label > span {\n",
       "  display: none;\n",
       "}\n",
       "\n",
       ".xr-section-summary,\n",
       ".xr-section-inline-details {\n",
       "  padding-top: 4px;\n",
       "  padding-bottom: 4px;\n",
       "}\n",
       "\n",
       ".xr-section-inline-details {\n",
       "  grid-column: 2 / -1;\n",
       "}\n",
       "\n",
       ".xr-section-details {\n",
       "  display: none;\n",
       "  grid-column: 1 / -1;\n",
       "  margin-bottom: 5px;\n",
       "}\n",
       "\n",
       ".xr-section-summary-in:checked ~ .xr-section-details {\n",
       "  display: contents;\n",
       "}\n",
       "\n",
       ".xr-array-wrap {\n",
       "  grid-column: 1 / -1;\n",
       "  display: grid;\n",
       "  grid-template-columns: 20px auto;\n",
       "}\n",
       "\n",
       ".xr-array-wrap > label {\n",
       "  grid-column: 1;\n",
       "  vertical-align: top;\n",
       "}\n",
       "\n",
       ".xr-preview {\n",
       "  color: var(--xr-font-color3);\n",
       "}\n",
       "\n",
       ".xr-array-preview,\n",
       ".xr-array-data {\n",
       "  padding: 0 5px !important;\n",
       "  grid-column: 2;\n",
       "}\n",
       "\n",
       ".xr-array-data,\n",
       ".xr-array-in:checked ~ .xr-array-preview {\n",
       "  display: none;\n",
       "}\n",
       "\n",
       ".xr-array-in:checked ~ .xr-array-data,\n",
       ".xr-array-preview {\n",
       "  display: inline-block;\n",
       "}\n",
       "\n",
       ".xr-dim-list {\n",
       "  display: inline-block !important;\n",
       "  list-style: none;\n",
       "  padding: 0 !important;\n",
       "  margin: 0;\n",
       "}\n",
       "\n",
       ".xr-dim-list li {\n",
       "  display: inline-block;\n",
       "  padding: 0;\n",
       "  margin: 0;\n",
       "}\n",
       "\n",
       ".xr-dim-list:before {\n",
       "  content: '(';\n",
       "}\n",
       "\n",
       ".xr-dim-list:after {\n",
       "  content: ')';\n",
       "}\n",
       "\n",
       ".xr-dim-list li:not(:last-child):after {\n",
       "  content: ',';\n",
       "  padding-right: 5px;\n",
       "}\n",
       "\n",
       ".xr-has-index {\n",
       "  font-weight: bold;\n",
       "}\n",
       "\n",
       ".xr-var-list,\n",
       ".xr-var-item {\n",
       "  display: contents;\n",
       "}\n",
       "\n",
       ".xr-var-item > div,\n",
       ".xr-var-item label,\n",
       ".xr-var-item > .xr-var-name span {\n",
       "  background-color: var(--xr-background-color-row-even);\n",
       "  margin-bottom: 0;\n",
       "}\n",
       "\n",
       ".xr-var-item > .xr-var-name:hover span {\n",
       "  padding-right: 5px;\n",
       "}\n",
       "\n",
       ".xr-var-list > li:nth-child(odd) > div,\n",
       ".xr-var-list > li:nth-child(odd) > label,\n",
       ".xr-var-list > li:nth-child(odd) > .xr-var-name span {\n",
       "  background-color: var(--xr-background-color-row-odd);\n",
       "}\n",
       "\n",
       ".xr-var-name {\n",
       "  grid-column: 1;\n",
       "}\n",
       "\n",
       ".xr-var-dims {\n",
       "  grid-column: 2;\n",
       "}\n",
       "\n",
       ".xr-var-dtype {\n",
       "  grid-column: 3;\n",
       "  text-align: right;\n",
       "  color: var(--xr-font-color2);\n",
       "}\n",
       "\n",
       ".xr-var-preview {\n",
       "  grid-column: 4;\n",
       "}\n",
       "\n",
       ".xr-var-name,\n",
       ".xr-var-dims,\n",
       ".xr-var-dtype,\n",
       ".xr-preview,\n",
       ".xr-attrs dt {\n",
       "  white-space: nowrap;\n",
       "  overflow: hidden;\n",
       "  text-overflow: ellipsis;\n",
       "  padding-right: 10px;\n",
       "}\n",
       "\n",
       ".xr-var-name:hover,\n",
       ".xr-var-dims:hover,\n",
       ".xr-var-dtype:hover,\n",
       ".xr-attrs dt:hover {\n",
       "  overflow: visible;\n",
       "  width: auto;\n",
       "  z-index: 1;\n",
       "}\n",
       "\n",
       ".xr-var-attrs,\n",
       ".xr-var-data {\n",
       "  display: none;\n",
       "  background-color: var(--xr-background-color) !important;\n",
       "  padding-bottom: 5px !important;\n",
       "}\n",
       "\n",
       ".xr-var-attrs-in:checked ~ .xr-var-attrs,\n",
       ".xr-var-data-in:checked ~ .xr-var-data {\n",
       "  display: block;\n",
       "}\n",
       "\n",
       ".xr-var-data > table {\n",
       "  float: right;\n",
       "}\n",
       "\n",
       ".xr-var-name span,\n",
       ".xr-var-data,\n",
       ".xr-attrs {\n",
       "  padding-left: 25px !important;\n",
       "}\n",
       "\n",
       ".xr-attrs,\n",
       ".xr-var-attrs,\n",
       ".xr-var-data {\n",
       "  grid-column: 1 / -1;\n",
       "}\n",
       "\n",
       "dl.xr-attrs {\n",
       "  padding: 0;\n",
       "  margin: 0;\n",
       "  display: grid;\n",
       "  grid-template-columns: 125px auto;\n",
       "}\n",
       "\n",
       ".xr-attrs dt,\n",
       ".xr-attrs dd {\n",
       "  padding: 0;\n",
       "  margin: 0;\n",
       "  float: left;\n",
       "  padding-right: 10px;\n",
       "  width: auto;\n",
       "}\n",
       "\n",
       ".xr-attrs dt {\n",
       "  font-weight: normal;\n",
       "  grid-column: 1;\n",
       "}\n",
       "\n",
       ".xr-attrs dt:hover span {\n",
       "  display: inline-block;\n",
       "  background: var(--xr-background-color);\n",
       "  padding-right: 10px;\n",
       "}\n",
       "\n",
       ".xr-attrs dd {\n",
       "  grid-column: 2;\n",
       "  white-space: pre-wrap;\n",
       "  word-break: break-all;\n",
       "}\n",
       "\n",
       ".xr-icon-database,\n",
       ".xr-icon-file-text2 {\n",
       "  display: inline-block;\n",
       "  vertical-align: middle;\n",
       "  width: 1em;\n",
       "  height: 1.5em !important;\n",
       "  stroke-width: 0;\n",
       "  stroke: currentColor;\n",
       "  fill: currentColor;\n",
       "}\n",
       "</style><pre class='xr-text-repr-fallback'>&lt;xarray.DataArray &#x27;time&#x27; (time: 2429)&gt;\n",
       "array([&#x27;2023-07-05T00:00:00.000000000&#x27;, &#x27;2023-07-05T00:01:00.000000000&#x27;,\n",
       "       &#x27;2023-07-05T00:02:00.000000000&#x27;, ..., &#x27;2023-07-06T16:26:00.000000000&#x27;,\n",
       "       &#x27;2023-07-06T16:27:00.000000000&#x27;, &#x27;2023-07-06T16:28:00.000000000&#x27;],\n",
       "      dtype=&#x27;datetime64[ns]&#x27;)\n",
       "Coordinates:\n",
       "  * time     (time) datetime64[ns] 2023-07-05 ... 2023-07-06T16:28:00</pre><div class='xr-wrap' hidden><div class='xr-header'><div class='xr-obj-type'>xarray.DataArray</div><div class='xr-array-name'>'time'</div><ul class='xr-dim-list'><li><span class='xr-has-index'>time</span>: 2429</li></ul></div><ul class='xr-sections'><li class='xr-section-item'><div class='xr-array-wrap'><input id='section-2f5b1117-a4fa-44f5-9ed9-80b61e573ab9' class='xr-array-in' type='checkbox' checked><label for='section-2f5b1117-a4fa-44f5-9ed9-80b61e573ab9' title='Show/hide data repr'><svg class='icon xr-icon-database'><use xlink:href='#icon-database'></use></svg></label><div class='xr-array-preview xr-preview'><span>2023-07-05 2023-07-05T00:01:00 ... 2023-07-06T16:28:00</span></div><div class='xr-array-data'><pre>array([&#x27;2023-07-05T00:00:00.000000000&#x27;, &#x27;2023-07-05T00:01:00.000000000&#x27;,\n",
       "       &#x27;2023-07-05T00:02:00.000000000&#x27;, ..., &#x27;2023-07-06T16:26:00.000000000&#x27;,\n",
       "       &#x27;2023-07-06T16:27:00.000000000&#x27;, &#x27;2023-07-06T16:28:00.000000000&#x27;],\n",
       "      dtype=&#x27;datetime64[ns]&#x27;)</pre></div></div></li><li class='xr-section-item'><input id='section-7da99206-08f8-4cba-a71d-b1d8ec3a0e85' class='xr-section-summary-in' type='checkbox'  checked><label for='section-7da99206-08f8-4cba-a71d-b1d8ec3a0e85' class='xr-section-summary' >Coordinates: <span>(1)</span></label><div class='xr-section-inline-details'></div><div class='xr-section-details'><ul class='xr-var-list'><li class='xr-var-item'><div class='xr-var-name'><span class='xr-has-index'>time</span></div><div class='xr-var-dims'>(time)</div><div class='xr-var-dtype'>datetime64[ns]</div><div class='xr-var-preview xr-preview'>2023-07-05 ... 2023-07-06T16:28:00</div><input id='attrs-2c54840f-8f75-464e-b645-2ee60be1b235' class='xr-var-attrs-in' type='checkbox' disabled><label for='attrs-2c54840f-8f75-464e-b645-2ee60be1b235' title='Show/Hide attributes'><svg class='icon xr-icon-file-text2'><use xlink:href='#icon-file-text2'></use></svg></label><input id='data-eae30c18-d702-4fd3-9e03-b5bb15296ddb' class='xr-var-data-in' type='checkbox'><label for='data-eae30c18-d702-4fd3-9e03-b5bb15296ddb' title='Show/Hide data repr'><svg class='icon xr-icon-database'><use xlink:href='#icon-database'></use></svg></label><div class='xr-var-attrs'><dl class='xr-attrs'></dl></div><div class='xr-var-data'><pre>array([&#x27;2023-07-05T00:00:00.000000000&#x27;, &#x27;2023-07-05T00:01:00.000000000&#x27;,\n",
       "       &#x27;2023-07-05T00:02:00.000000000&#x27;, ..., &#x27;2023-07-06T16:26:00.000000000&#x27;,\n",
       "       &#x27;2023-07-06T16:27:00.000000000&#x27;, &#x27;2023-07-06T16:28:00.000000000&#x27;],\n",
       "      dtype=&#x27;datetime64[ns]&#x27;)</pre></div></li></ul></div></li><li class='xr-section-item'><input id='section-e72c6351-a711-4199-9e2f-d5728eee0283' class='xr-section-summary-in' type='checkbox' disabled ><label for='section-e72c6351-a711-4199-9e2f-d5728eee0283' class='xr-section-summary'  title='Expand/collapse section'>Attributes: <span>(0)</span></label><div class='xr-section-inline-details'></div><div class='xr-section-details'><dl class='xr-attrs'></dl></div></li></ul></div></div>"
      ],
      "text/plain": [
       "<xarray.DataArray 'time' (time: 2429)>\n",
       "array(['2023-07-05T00:00:00.000000000', '2023-07-05T00:01:00.000000000',\n",
       "       '2023-07-05T00:02:00.000000000', ..., '2023-07-06T16:26:00.000000000',\n",
       "       '2023-07-06T16:27:00.000000000', '2023-07-06T16:28:00.000000000'],\n",
       "      dtype='datetime64[ns]')\n",
       "Coordinates:\n",
       "  * time     (time) datetime64[ns] 2023-07-05 ... 2023-07-06T16:28:00"
      ]
     },
     "execution_count": 7,
     "metadata": {},
     "output_type": "execute_result"
    }
   ],
   "source": [
    "ORGAPG_ds.time"
   ]
  },
  {
   "cell_type": "markdown",
   "id": "ef73586a-481e-4219-ba34-695794201b6e",
   "metadata": {},
   "source": [
    "### ORG Data"
   ]
  },
  {
   "cell_type": "code",
   "execution_count": 8,
   "id": "0bdb9a77-94bd-43a0-a7c5-4e851e55bc0e",
   "metadata": {},
   "outputs": [
    {
     "data": {
      "image/png": "[encoded data removed]",
      "text/plain": [
       "<Figure size 432x288 with 1 Axes>"
      ]
     },
     "metadata": {
      "needs_background": "light"
     },
     "output_type": "display_data"
    }
   ],
   "source": [
    "ORG_precip = ORGAPG_ds.ORG_Precip_Accum - ORGAPG_ds.ORG_Precip_Accum[0]\n",
    "ORG_precip.plot()\n",
    "plt.title('Corrected ORG Daily Precipitation')\n",
    "plt.xlabel('Date')\n",
    "plt.ylabel('Total Precipitation (mm)')\n",
    "plt.show()"
   ]
  },
  {
   "cell_type": "markdown",
   "id": "6c592178-fb31-453e-8a98-bc6d4937f8d0",
   "metadata": {},
   "source": [
    "Don't have the APG for this day :("
   ]
  },
  {
   "cell_type": "markdown",
   "id": "ac217a05-fc5f-4c24-a31e-67f7c3cd9f86",
   "metadata": {},
   "source": [
    "## Plot 12in Tipping Bucket Data"
   ]
  },
  {
   "cell_type": "code",
   "execution_count": 9,
   "id": "38e170fb-0a64-4cc2-9c2a-b7d850186141",
   "metadata": {},
   "outputs": [
    {
     "data": {
      "image/png": "[encoded data removed]",
      "text/plain": [
       "<Figure size 432x288 with 1 Axes>"
      ]
     },
     "metadata": {
      "needs_background": "light"
     },
     "output_type": "display_data"
    }
   ],
   "source": [
    "tbrg_12 = np.cumsum(ORGAPG_ds.tb_rain_mm_12in_Tot - ORGAPG_ds.tb_rain_mm_12in_Tot[0])\n",
    "tbrg_12.plot()\n",
    "plt.title('12in TBRG Precipitation')\n",
    "plt.xlabel('Date')\n",
    "plt.ylabel('Total Precipitation (mm)')\n",
    "plt.show()"
   ]
  },
  {
   "cell_type": "markdown",
   "id": "265b4bee-4a0a-46ce-8b3a-bb838c9f3628",
   "metadata": {},
   "source": [
    "## Plot 8in Tipping Bucket Data"
   ]
  },
  {
   "cell_type": "markdown",
   "id": "9d6e5177-4aca-4599-95d0-b4a284b577ed",
   "metadata": {},
   "source": [
    "tbrg_8 = np.cumsum(ORGAPG_ds.tb_rain_mm_8in_Tot - ORGAPG_ds.tb_rain_mm_8in_Tot[0])\n",
    "tbrg_8.plot()\n",
    "plt.title('8in TBRG Precipitation')\n",
    "plt.xlabel('Date')\n",
    "plt.ylabel('Total Precipitation (mm)')\n",
    "plt.show()"
   ]
  },
  {
   "cell_type": "markdown",
   "id": "bc3823e9-ae4a-4273-822a-2e2d5897a70a",
   "metadata": {},
   "source": [
    "## Import Tower Data"
   ]
  },
  {
   "cell_type": "code",
   "execution_count": 11,
   "id": "b17933b2-9655-4c1f-bd31-0552dacea25b",
   "metadata": {},
   "outputs": [],
   "source": [
    "tower_files = \"C:/Users/maggi/ANL_Internship_2023/Tower_Rain_Gauge/tower_0705/*.nc\""
   ]
  },
  {
   "cell_type": "code",
   "execution_count": 12,
   "id": "9430117e-4593-4f7e-981e-54b82b86d1bb",
   "metadata": {},
   "outputs": [],
   "source": [
    "tower_ds = xr.open_mfdataset(tower_files)"
   ]
  },
  {
   "cell_type": "code",
   "execution_count": 13,
   "id": "8e7d436a-0c97-4e15-9f9e-2413b9d1f233",
   "metadata": {},
   "outputs": [
    {
     "data": {
      "image/png": "[encoded data removed]",
      "text/plain": [
       "<Figure size 432x288 with 1 Axes>"
      ]
     },
     "metadata": {
      "needs_background": "light"
     },
     "output_type": "display_data"
    }
   ],
   "source": [
    "tower_precip = tower_ds.precip\n",
    "tower_precip.plot()\n",
    "plt.title('Tower Rain Gauge Daily Precipitation')\n",
    "plt.xlabel('Date')\n",
    "plt.ylabel('Total Precipitation (mm)')\n",
    "plt.show()"
   ]
  },
  {
   "cell_type": "markdown",
   "id": "1b77ddcd-7b9f-40f7-bd1f-87654fc33716",
   "metadata": {},
   "source": [
    "## Plot Tower Accumulated Precip"
   ]
  },
  {
   "cell_type": "code",
   "execution_count": 14,
   "id": "5a810ce8-836a-4b19-a119-2c5d5f9e9e99",
   "metadata": {},
   "outputs": [
    {
     "data": {
      "text/plain": [
       "Text(0, 0.5, 'Total Precipitation (mm)')"
      ]
     },
     "execution_count": 14,
     "metadata": {},
     "output_type": "execute_result"
    },
    {
     "data": {
      "image/png": "[encoded data removed]",
      "text/plain": [
       "<Figure size 432x288 with 1 Axes>"
      ]
     },
     "metadata": {
      "needs_background": "light"
     },
     "output_type": "display_data"
    }
   ],
   "source": [
    "accumulated_tower_precip = np.cumsum(tower_precip)\n",
    "accumulated_tower_precip.plot()\n",
    "plt.title('Tower Rain Gauge Accumulated Precipitation')\n",
    "plt.xlabel('Date')\n",
    "plt.ylabel('Total Precipitation (mm)')"
   ]
  },
  {
   "cell_type": "markdown",
   "id": "9ce4e071-9b4f-47d2-8e9b-c3510f7bc2f0",
   "metadata": {},
   "source": [
    "## Import FD70 Data"
   ]
  },
  {
   "cell_type": "code",
   "execution_count": 15,
   "id": "20d08f03-4586-413a-90b2-19fca7078819",
   "metadata": {},
   "outputs": [],
   "source": [
    "FD70_data = \"C:/Users/maggi/ANL_Internship_2023/FD70_Rain_Gauge/FD70_0705/*.nc\"\n",
    "FD70_ds = xr.open_mfdataset(FD70_data)"
   ]
  },
  {
   "cell_type": "markdown",
   "id": "7ed3ad34-d1f3-45bb-a3b5-afed63411579",
   "metadata": {},
   "source": [
    "## Plot FD70 Data"
   ]
  },
  {
   "cell_type": "code",
   "execution_count": 16,
   "id": "6f04f7b2-debf-494a-9234-eb2332a73519",
   "metadata": {},
   "outputs": [
    {
     "data": {
      "text/plain": [
       "[<matplotlib.lines.Line2D at 0x2433164fdc0>]"
      ]
     },
     "execution_count": 16,
     "metadata": {},
     "output_type": "execute_result"
    },
    {
     "data": {
      "image/png": "[encoded data removed]",
      "text/plain": [
       "<Figure size 432x288 with 1 Axes>"
      ]
     },
     "metadata": {
      "needs_background": "light"
     },
     "output_type": "display_data"
    }
   ],
   "source": [
    "FD70_precip = (FD70_ds.precip_accumulation-FD70_ds.precip_accumulation[0])\n",
    "FD70_precip.plot()"
   ]
  },
  {
   "cell_type": "markdown",
   "id": "5ee2f36a-df05-4cba-b311-2622d55c9d53",
   "metadata": {},
   "source": [
    "## Plot data from all rain gauges"
   ]
  },
  {
   "cell_type": "code",
   "execution_count": 24,
   "id": "e0988efb-5756-44b8-9f0f-60c9f825ba7d",
   "metadata": {},
   "outputs": [
    {
     "data": {
      "image/png": "[encoded data removed]",
      "text/plain": [
       "<Figure size 1080x576 with 1 Axes>"
      ]
     },
     "metadata": {
      "needs_background": "light"
     },
     "output_type": "display_data"
    }
   ],
   "source": [
    "fig, (ax1) = plt.subplots(1, 1, figsize=(15, 8))\n",
    "\n",
    "FD70_precip.plot(ax=ax1, label='FD70')\n",
    "ORG_precip.plot(ax=ax1, label='ORG')\n",
    "#APG_precip.plot(ax=ax1, label='APG')\n",
    "tbrg_12.plot(ax=ax1, label='NovaLynx 12in Tipping Bucket')\n",
    "tbrg_8.plot(ax=ax1, label='Wind Shielded 8in Tipping Bucket')\n",
    "accumulated_tower_precip.plot(ax=ax1, label='Tower 8in Rain Gauge')\n",
    "\n",
    "ax1.set_title('Event Rain Accumulation')\n",
    "ax1.set_xlabel('Time (UTC)')\n",
    "ax1.set_ylabel('Rain Accumulation (mm)')\n",
    "ax1.legend()\n",
    "# Show the two plots\n",
    "plt.show()"
   ]
  },
  {
   "cell_type": "code",
   "execution_count": 26,
   "id": "676f6138-9857-4399-8b72-27e4b77e853b",
   "metadata": {},
   "outputs": [
    {
     "data": {
      "image/png": "[encoded data removed]",
      "text/plain": [
       "<Figure size 1152x720 with 1 Axes>"
      ]
     },
     "metadata": {
      "needs_background": "light"
     },
     "output_type": "display_data"
    }
   ],
   "source": [
    "rain_gauge_labels = ['FD70', 'ORG', '12in Tipping Bucket', 'Wind Shielded 8in Tipping Bucket', 'Tower 8in Rain Gauge']\n",
    "rainfall_amounts = [FD70_precip.max(), ORG_precip.max(), tbrg_12.max(), tbrg_8.max(), accumulated_tower_precip.max()]\n",
    "\n",
    "plt.figure(figsize=(16,10))\n",
    "plt.bar(rain_gauge_labels, rainfall_amounts)\n",
    "plt.xlabel('Rain Gauges')\n",
    "plt.ylabel('Rainfall Amount (mm)')\n",
    "plt.title('Event Rain Accumulation')\n",
    "plt.show()"
   ]
  },
  {
   "cell_type": "code",
   "execution_count": null,
   "id": "54749851-71c3-4824-a2c6-b55615c6950c",
   "metadata": {},
   "outputs": [],
   "source": []
  }
 ],
 "metadata": {
  "kernelspec": {
   "display_name": "Python 3 (ipykernel)",
   "language": "python",
   "name": "python3"
  },
  "language_info": {
   "codemirror_mode": {
    "name": "ipython",
    "version": 3
   },
   "file_extension": ".py",
   "mimetype": "text/x-python",
   "name": "python",
   "nbconvert_exporter": "python",
   "pygments_lexer": "ipython3",
   "version": "3.9.12"
  }
 },
 "nbformat": 4,
 "nbformat_minor": 5
}
