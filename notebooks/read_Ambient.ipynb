{
 "cells": [
  {
   "cell_type": "markdown",
   "id": "ca440621",
   "metadata": {},
   "source": [
    "## Ambient data reader"
   ]
  },
  {
   "cell_type": "markdown",
   "id": "42b062b7",
   "metadata": {},
   "source": [
    "# Import Libraries"
   ]
  },
  {
   "cell_type": "code",
   "execution_count": 17,
   "id": "1b1b1887",
   "metadata": {},
   "outputs": [],
   "source": [
    "import numpy as np\n",
    "import xarray as xr\n",
    "import pandas as pd\n",
    "import matplotlib.pyplot as plt\n",
    "import act\n",
    "from act.io.armfiles import read_netcdf\n",
    "from act.plotting import TimeSeriesDisplay\n",
    "import fsspec\n",
    "from datetime import datetime, date"
   ]
  },
  {
   "cell_type": "markdown",
   "id": "ad7fdf26",
   "metadata": {},
   "source": [
    "# Rename Variables"
   ]
  },
  {
   "cell_type": "code",
   "execution_count": 18,
   "id": "d265bc94",
   "metadata": {},
   "outputs": [],
   "source": [
    "# Renaming of variables and adding units to each variable.\n",
    "# Ambient weather station\n",
    "attrs_dict_ambient = {'tempf': {'standard_name': 'Temperature',\n",
    "                                'units': 'degF'},\n",
    "                      'tempinf': {'standard_name': 'Temperature',\n",
    "                                  'units': 'degF'},\n",
    "                      'feelsLike': {'standard_name': 'Feels Like Temperature',\n",
    "                                    'units': 'degF'},\n",
    "                      'dewPoint': {'standard_name': 'Dewpoint Temperature',\n",
    "                                   'units': 'degF'},\n",
    "                      'dewPointin': {'standard_name': 'Dewpoint Temperature',\n",
    "                                     'units': 'degF'},\n",
    "                      'windspeedmph': {'standard_name': 'Wind Speed',\n",
    "                                       'units': 'mph'},\n",
    "                      'winddir': {'standard_name': ' Wind Direction',\n",
    "                                  'units': 'Degrees 0-360'},\n",
    "                      'windgustmph': {'standard_name': 'Wind Gust last 10 min',\n",
    "                                      'units': 'mph'},\n",
    "                      'windgustdir': {'standard_name': 'Wind direction of gust',\n",
    "                                      'units': 'Degrees 0-360'},\n",
    "                      'hourlyrainin': {'standard_name': 'Hourly Rain Rate',\n",
    "                                       'units': 'in/hr'},\n",
    "                      'dailyrainin': {'standard_name': 'Daily Rain',\n",
    "                                      'units': 'inches'},\n",
    "                      'eventrainin': {'standard_name': 'Event Rain',\n",
    "                                      'units': 'inches'},\n",
    "                      'baromrelin': {'standard_name': 'Relative Pressure',\n",
    "                                     'units': 'inHg'},\n",
    "                      'baromabsin': {'standard_name': 'Absolute Pressure',\n",
    "                                     'units': 'inHg'},\n",
    "                      'solarradiation': {'standard_name': 'Solar Radiation',\n",
    "                                         'units': 'W/m^2'},\n",
    "                      'pm25': {'standard_name': 'PM 2.5',\n",
    "                               'units': 'ug/m^3'},\n",
    "                      'pm25_24h': {'standard_name': 'PM2.5 Air Quality 24 hour average',\n",
    "                                   'units': 'ug/m^3'},\n",
    "                      'battout': {'standard_name': 'Outdoor Battery',\n",
    "                                  'units': '1=ok,0=low'},\n",
    "                      'batt_25': {'standard_name': 'PM 2.5 Battery Power',\n",
    "                                  'units': '1=ok,0=low'}}\n",
    "\n",
    "variable_mapping_ambient = {'date': 'time',\n",
    "                            'tempf': 'outdoor_temperature',\n",
    "                            'tempinf': 'indoor_temperature',\n",
    "                            'dewPoint': 'outdoor_dewpoint',\n",
    "                            'dewPointin': 'indoor_dewpoint',\n",
    "                            'feelsLike': 'feelslike_temperature',\n",
    "                            'winddir': 'wind_direction',\n",
    "                            'windspeedmph': 'wind_speed',\n",
    "                            'windgustmph': 'wind_gust',\n",
    "                            'windgustdir': 'wind_gust_direction',\n",
    "                            'hourlyrainin': 'hourly_rain',\n",
    "                            'dailyrainin': 'daily_rain',\n",
    "                            'eventrainin': 'event_rain',\n",
    "                            'baromrelin': 'relative_pressure',\n",
    "                            'baromabsin': 'absolute_pressure',\n",
    "                            'solarradiation': 'solar_radiation',\n",
    "                            'pm25': 'pm25_outdoor',\n",
    "                            'pm25_24h': 'pm25_24hr',\n",
    "                            'battout': 'station_battery',\n",
    "                            'batt_25': 'pm25_battery'\n",
    "                            }\n"
   ]
  },
  {
   "cell_type": "markdown",
   "id": "9a168369",
   "metadata": {},
   "source": [
    "# Pulls the data from date"
   ]
  },
  {
   "cell_type": "code",
   "execution_count": 25,
   "id": "96fc5860",
   "metadata": {
    "scrolled": false
   },
   "outputs": [
    {
     "ename": "ValueError",
     "evalue": "unrecognized engine h5netcdf must be one of: ['netcdf4', 'scipy', 'gini', 'store']",
     "output_type": "error",
     "traceback": [
      "\u001b[0;31m---------------------------------------------------------------------------\u001b[0m",
      "\u001b[0;31mValueError\u001b[0m                                Traceback (most recent call last)",
      "Cell \u001b[0;32mIn[25], line 18\u001b[0m\n\u001b[1;32m     16\u001b[0m ncfile \u001b[38;5;241m=\u001b[39m fsspec\u001b[38;5;241m.\u001b[39mopen(github_url)\n\u001b[1;32m     17\u001b[0m \u001b[38;5;66;03m#ds_ambient = xr.open_dataset(ncfile.open(), engine='h5netcdf')\u001b[39;00m\n\u001b[0;32m---> 18\u001b[0m ds\u001b[38;5;241m=\u001b[39m\u001b[43mxr\u001b[49m\u001b[38;5;241;43m.\u001b[39;49m\u001b[43mopen_dataset\u001b[49m\u001b[43m(\u001b[49m\u001b[43mncfile\u001b[49m\u001b[43m,\u001b[49m\u001b[43mengine\u001b[49m\u001b[38;5;241;43m=\u001b[39;49m\u001b[38;5;124;43m'\u001b[39;49m\u001b[38;5;124;43mh5netcdf\u001b[39;49m\u001b[38;5;124;43m'\u001b[39;49m\u001b[43m)\u001b[49m\n",
      "File \u001b[0;32m~/opt/anaconda3/lib/python3.9/site-packages/xarray/backends/api.py:525\u001b[0m, in \u001b[0;36mopen_dataset\u001b[0;34m(filename_or_obj, engine, chunks, cache, decode_cf, mask_and_scale, decode_times, decode_timedelta, use_cftime, concat_characters, decode_coords, drop_variables, inline_array, backend_kwargs, **kwargs)\u001b[0m\n\u001b[1;32m    522\u001b[0m \u001b[38;5;28;01mif\u001b[39;00m engine \u001b[38;5;129;01mis\u001b[39;00m \u001b[38;5;28;01mNone\u001b[39;00m:\n\u001b[1;32m    523\u001b[0m     engine \u001b[38;5;241m=\u001b[39m plugins\u001b[38;5;241m.\u001b[39mguess_engine(filename_or_obj)\n\u001b[0;32m--> 525\u001b[0m backend \u001b[38;5;241m=\u001b[39m \u001b[43mplugins\u001b[49m\u001b[38;5;241;43m.\u001b[39;49m\u001b[43mget_backend\u001b[49m\u001b[43m(\u001b[49m\u001b[43mengine\u001b[49m\u001b[43m)\u001b[49m\n\u001b[1;32m    527\u001b[0m decoders \u001b[38;5;241m=\u001b[39m _resolve_decoders_kwargs(\n\u001b[1;32m    528\u001b[0m     decode_cf,\n\u001b[1;32m    529\u001b[0m     open_backend_dataset_parameters\u001b[38;5;241m=\u001b[39mbackend\u001b[38;5;241m.\u001b[39mopen_dataset_parameters,\n\u001b[0;32m   (...)\u001b[0m\n\u001b[1;32m    535\u001b[0m     decode_coords\u001b[38;5;241m=\u001b[39mdecode_coords,\n\u001b[1;32m    536\u001b[0m )\n\u001b[1;32m    538\u001b[0m overwrite_encoded_chunks \u001b[38;5;241m=\u001b[39m kwargs\u001b[38;5;241m.\u001b[39mpop(\u001b[38;5;124m\"\u001b[39m\u001b[38;5;124moverwrite_encoded_chunks\u001b[39m\u001b[38;5;124m\"\u001b[39m, \u001b[38;5;28;01mNone\u001b[39;00m)\n",
      "File \u001b[0;32m~/opt/anaconda3/lib/python3.9/site-packages/xarray/backends/plugins.py:185\u001b[0m, in \u001b[0;36mget_backend\u001b[0;34m(engine)\u001b[0m\n\u001b[1;32m    183\u001b[0m     engines \u001b[38;5;241m=\u001b[39m list_engines()\n\u001b[1;32m    184\u001b[0m     \u001b[38;5;28;01mif\u001b[39;00m engine \u001b[38;5;129;01mnot\u001b[39;00m \u001b[38;5;129;01min\u001b[39;00m engines:\n\u001b[0;32m--> 185\u001b[0m         \u001b[38;5;28;01mraise\u001b[39;00m \u001b[38;5;167;01mValueError\u001b[39;00m(\n\u001b[1;32m    186\u001b[0m             \u001b[38;5;124mf\u001b[39m\u001b[38;5;124m\"\u001b[39m\u001b[38;5;124munrecognized engine \u001b[39m\u001b[38;5;132;01m{\u001b[39;00mengine\u001b[38;5;132;01m}\u001b[39;00m\u001b[38;5;124m must be one of: \u001b[39m\u001b[38;5;132;01m{\u001b[39;00m\u001b[38;5;28mlist\u001b[39m(engines)\u001b[38;5;132;01m}\u001b[39;00m\u001b[38;5;124m\"\u001b[39m\n\u001b[1;32m    187\u001b[0m         )\n\u001b[1;32m    188\u001b[0m     backend \u001b[38;5;241m=\u001b[39m engines[engine]\n\u001b[1;32m    189\u001b[0m \u001b[38;5;28;01melif\u001b[39;00m \u001b[38;5;28misinstance\u001b[39m(engine, \u001b[38;5;28mtype\u001b[39m) \u001b[38;5;129;01mand\u001b[39;00m \u001b[38;5;28missubclass\u001b[39m(engine, BackendEntrypoint):\n",
      "\u001b[0;31mValueError\u001b[0m: unrecognized engine h5netcdf must be one of: ['netcdf4', 'scipy', 'gini', 'store']"
     ]
    }
   ],
   "source": [
    "# Opens ambient weather for selected date off of CROCUS github\n",
    "# To pull today's date\n",
    "today = date.today()\n",
    "date_format = today.strftime(\"%Y%m%d\")\n",
    "# Splice the date into the format needed to pull Ambient Data\n",
    "#year = date_format[0:4]\n",
    "year='2023'\n",
    "#month = date_format[4:6]\n",
    "month = '03'\n",
    "#day = date_format[6:8]\n",
    "day='22'\n",
    "github_url = (\n",
    "    'https://github.com/CROCUS-Urban/instrument-cookbooks/raw/main/data/surface-meteorology/'+year+'/'+month+'/'+day+'/'+'ambient.a1.'+year+month+day+'.nc#mode=bytes')\n",
    "\n",
    "# Opens the file off of github\n",
    "ncfile = fsspec.open(github_url)\n",
    "ds_ambient = xr.open_dataset(ncfile.open(), engine='h5netcdf')\n"
   ]
  },
  {
   "cell_type": "code",
   "execution_count": 20,
   "id": "1775e872",
   "metadata": {},
   "outputs": [
    {
     "data": {
      "text/plain": [
       "<OpenFile 'https://github.com/CROCUS-Urban/instrument-cookbooks/raw/main/data/surface-meteorology/2023/03/22/ambient.a1.20230322.nc#mode=bytes'>"
      ]
     },
     "execution_count": 20,
     "metadata": {},
     "output_type": "execute_result"
    }
   ],
   "source": [
    "ncfile"
   ]
  },
  {
   "cell_type": "code",
   "execution_count": 21,
   "id": "1ea96285",
   "metadata": {},
   "outputs": [
    {
     "ename": "NameError",
     "evalue": "name 'ds_ambient' is not defined",
     "output_type": "error",
     "traceback": [
      "\u001b[0;31m---------------------------------------------------------------------------\u001b[0m",
      "\u001b[0;31mNameError\u001b[0m                                 Traceback (most recent call last)",
      "Cell \u001b[0;32mIn[21], line 3\u001b[0m\n\u001b[1;32m      1\u001b[0m \u001b[38;5;66;03m# Lopping through to rename variables\u001b[39;00m\n\u001b[1;32m      2\u001b[0m \u001b[38;5;28;01mfor\u001b[39;00m variable \u001b[38;5;129;01min\u001b[39;00m attrs_dict_ambient\u001b[38;5;241m.\u001b[39mkeys():\n\u001b[0;32m----> 3\u001b[0m     \u001b[38;5;28;01mif\u001b[39;00m variable \u001b[38;5;129;01min\u001b[39;00m \u001b[38;5;28mlist\u001b[39m(\u001b[43mds_ambient\u001b[49m\u001b[38;5;241m.\u001b[39mvariables):\n\u001b[1;32m      4\u001b[0m         ds_ambient[variable]\u001b[38;5;241m.\u001b[39mattrs \u001b[38;5;241m=\u001b[39m attrs_dict_ambient[variable]\n\u001b[1;32m      6\u001b[0m \u001b[38;5;66;03m# Lists what variables we can pull and what they provide to have a common\u001b[39;00m\n\u001b[1;32m      7\u001b[0m \u001b[38;5;66;03m# name list.\u001b[39;00m\n",
      "\u001b[0;31mNameError\u001b[0m: name 'ds_ambient' is not defined"
     ]
    }
   ],
   "source": [
    "# Lopping through to rename variables\n",
    "for variable in attrs_dict_ambient.keys():\n",
    "    if variable in list(ds_ambient.variables):\n",
    "        ds_ambient[variable].attrs = attrs_dict_ambient[variable]\n",
    "\n",
    "# Lists what variables we can pull and what they provide to have a common\n",
    "# name list.\n",
    "theirvariables = sorted(list(ds_ambient.variables))\n",
    "ourvariables = sorted(list(variable_mapping_ambient.keys()))\n",
    "sharedvariables = dict()\n",
    "for variable in theirvariables:\n",
    "    if variable in ourvariables:\n",
    "        sharedvariables[variable] = variable_mapping_ambient[variable]\n",
    "# Rename variables\n",
    "ds_ambient = ds_ambient.rename(sharedvariables)"
   ]
  },
  {
   "cell_type": "code",
   "execution_count": null,
   "id": "0a0c111b",
   "metadata": {},
   "outputs": [],
   "source": []
  }
 ],
 "metadata": {
  "kernelspec": {
   "display_name": "Python 3 (ipykernel)",
   "language": "python",
   "name": "python3"
  },
  "language_info": {
   "codemirror_mode": {
    "name": "ipython",
    "version": 3
   },
   "file_extension": ".py",
   "mimetype": "text/x-python",
   "name": "python",
   "nbconvert_exporter": "python",
   "pygments_lexer": "ipython3",
   "version": "3.9.16"
  }
 },
 "nbformat": 4,
 "nbformat_minor": 5
}
